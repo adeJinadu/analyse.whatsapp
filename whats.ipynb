{
 "metadata": {
  "language_info": {
   "codemirror_mode": {
    "name": "ipython",
    "version": 3
   },
   "file_extension": ".py",
   "mimetype": "text/x-python",
   "name": "python",
   "nbconvert_exporter": "python",
   "pygments_lexer": "ipython3",
   "version": "3.8.3-final"
  },
  "orig_nbformat": 2,
  "kernelspec": {
   "name": "python3",
   "display_name": "Python 3",
   "language": "python"
  }
 },
 "nbformat": 4,
 "nbformat_minor": 2,
 "cells": [
  {
   "cell_type": "code",
   "execution_count": 47,
   "metadata": {},
   "outputs": [
    {
     "output_type": "stream",
     "name": "stdout",
     "text": [
      "Requirement already satisfied: emoji in c:\\users\\lanre connect\\anaconda3\\lib\\site-packages (0.6.0)\n"
     ]
    }
   ],
   "source": [
    "!pip install emoji"
   ]
  },
  {
   "cell_type": "code",
   "execution_count": 48,
   "metadata": {},
   "outputs": [
    {
     "output_type": "stream",
     "name": "stdout",
     "text": [
      "581\n"
     ]
    }
   ],
   "source": [
    "#Red txt data file \n",
    "with open(\"cms-chat.txt\", encoding = \"utf-8\") as file:\n",
    "    chats = file.readlines()\n",
    "print(len(chats))"
   ]
  },
  {
   "cell_type": "code",
   "execution_count": 49,
   "metadata": {},
   "outputs": [],
   "source": [
    "import re\n",
    "import regex\n",
    "import pandas as pd\n",
    "import numpy as np\n",
    "import emoji\n",
    "import plotly.express as px\n",
    "from collections import Counter\n",
    "import matplotlib.pyplot as plt\n",
    "from os import path\n",
    "from PIL import Image\n",
    "from wordcloud import WordCloud, STOPWORDS, ImageColorGenerator\n",
    "%matplotlib inline\n",
    "plt.style.use('ggplot')"
   ]
  },
  {
   "cell_type": "code",
   "execution_count": 50,
   "metadata": {},
   "outputs": [
    {
     "output_type": "stream",
     "name": "stdout",
     "text": [
      "517\n"
     ]
    }
   ],
   "source": [
    "\n",
    "#Remove new lines\n",
    "chats = [line.strip() for line in chats]\n",
    "\n",
    "#Getting join notification lines\n",
    "jn = [line for line in chats if  not \"joined using this\" in line]\n",
    "\n",
    "#Further cleaning\n",
    "#Remove empty lines\n",
    "jn = [line for line in jn if len(line) > 1]\n",
    "print(len(jn))"
   ]
  },
  {
   "cell_type": "code",
   "execution_count": 51,
   "metadata": {},
   "outputs": [
    {
     "output_type": "stream",
     "name": "stdout",
     "text": [
      "517\n"
     ]
    }
   ],
   "source": [
    "jn = [line for line in jn if not \"You changed\" in line]\n",
    "print(len(jn))"
   ]
  },
  {
   "cell_type": "code",
   "execution_count": 52,
   "metadata": {},
   "outputs": [
    {
     "output_type": "stream",
     "name": "stdout",
     "text": [
      "517\n"
     ]
    }
   ],
   "source": [
    "jn = [line for line in jn if not \"You changed\" in line]\n",
    "print(len(jn))"
   ]
  },
  {
   "cell_type": "code",
   "execution_count": 53,
   "metadata": {},
   "outputs": [
    {
     "output_type": "stream",
     "name": "stdout",
     "text": [
      "There were 77 media files in this time\n",
      "There were 7 left lines in this time\n",
      "440\n"
     ]
    }
   ],
   "source": [
    "#Drop media file lines and left group lines\n",
    "media = [line for line in jn if 'omitted' in line]\n",
    "print(\"There were {} media files in this time\".format(len(media)))\n",
    "left = [line for line in jn if 'left' in line]\n",
    "print(\"There were {} left lines in this time\".format(len(left)))\n",
    "convo = [line for line in jn if not 'omitted' in line]\n",
    "print(len(convo))"
   ]
  },
  {
   "cell_type": "code",
   "execution_count": 54,
   "metadata": {},
   "outputs": [
    {
     "output_type": "execute_result",
     "data": {
      "text/plain": [
       "186"
      ]
     },
     "metadata": {},
     "execution_count": 54
    }
   ],
   "source": [
    "\n",
    "#Merge messages that belong together\n",
    "msgs = [] #message container\n",
    "pos = 0 #counter for position of msgs in the container\n",
    "\"\"\"\n",
    "Flow:\n",
    "For every line, see if it matches the expression which is starting with the format \"number(s)+slash\" eg \"12/\"\n",
    "If it does, it is a new line of conversion as they begin with dates, add it to msgs container\n",
    "Else, it is a continuation of the previous line, add it to the previous line and append to msgs, then pop previous line.\n",
    "\"\"\"\n",
    "for line in convo:\n",
    "    if re.findall(\"\\A\\d+[/]\", line):\n",
    "        msgs.append(line)\n",
    "        pos += 1\n",
    "    else:\n",
    "        take = msgs[pos-1] + \". \" + line\n",
    "        msgs.append(take)\n",
    "        msgs.pop(pos-1)\n",
    "\n",
    "len(msgs)"
   ]
  },
  {
   "cell_type": "code",
   "execution_count": 55,
   "metadata": {},
   "outputs": [
    {
     "output_type": "execute_result",
     "data": {
      "text/plain": [
       "184"
      ]
     },
     "metadata": {},
     "execution_count": 55
    }
   ],
   "source": [
    "#Drop first two lines: auto msg\n",
    "msgs = msgs[2:]\n",
    "len(msgs)"
   ]
  },
  {
   "cell_type": "code",
   "execution_count": 56,
   "metadata": {},
   "outputs": [
    {
     "output_type": "execute_result",
     "data": {
      "text/plain": [
       "['23/08/2020, 20:10 - Gbolahan Olanrewaju: https://us02web.zoom.us/j/84808218728?pwd=aWNnZGk1MzZCWjRkMmVZQjdhTlJkdz09',\n",
       " \"03/09/2020, 07:04 - Onyinye Awanyai: Good morning Everyone.. Trust we had a good night rest.. It's Mr Sam's Birthday today!\",\n",
       " \"03/09/2020, 07:04 - Onyinye Awanyai: _Happy birthday Mr Sam_ 🎂🎈🎉🎉🎉. _We wish you God's grace and peace_ _and pray for that have a great year_ _ahead_ _. Here's wishing you the best_ _always_\",\n",
       " '03/09/2020, 07:47 - Detty: May you have reasons to rejoice all the days of your life. Happy Birthday Samosa!',\n",
       " '03/09/2020, 07:48 - Tobi Delalu: Happy birthday Mr Sam😊',\n",
       " '03/09/2020, 08:04 - Ifeanyi Abiodun: Mr Sam Yo!. Happy Birthday Sir.Wishing you abundant blessings from the Almighty today and always.. 🎂🍽🙏🙏🙏🙏',\n",
       " '03/09/2020, 08:26 - Dayo Adeseye: May God bless you with things you deserve and may you have a fun filled birthday today and the year to come.....Happy birthday boss',\n",
       " '03/09/2020, 11:55 - Mausi: Happy birthday Sir....Igba odun....odun kan ni. May God continually bless you all the days of your life.(Amen)',\n",
       " '03/09/2020, 11:56 - Abisola: Happy birthday Mr. Sam. Greater shall be your increase',\n",
       " '03/09/2020, 12:02 - Chioma Nwodike: Happy Birthday Samosa. More blessings to you']"
      ]
     },
     "metadata": {},
     "execution_count": 56
    }
   ],
   "source": [
    "msgs[:10]"
   ]
  },
  {
   "cell_type": "code",
   "execution_count": 57,
   "metadata": {},
   "outputs": [
    {
     "output_type": "execute_result",
     "data": {
      "text/plain": [
       "['Gbolahan',\n",
       " 'Olanrewaju:',\n",
       " 'https://us02web.zoom.us/j/84808218728?pwd=aWNnZGk1MzZCWjRkMmVZQjdhTlJkdz09']"
      ]
     },
     "metadata": {},
     "execution_count": 57
    }
   ],
   "source": [
    "msgs[0].split()[3:9]"
   ]
  },
  {
   "cell_type": "code",
   "execution_count": 22,
   "metadata": {},
   "outputs": [
    {
     "output_type": "error",
     "ename": "NameError",
     "evalue": "name 'match' is not defined",
     "traceback": [
      "\u001b[1;31m---------------------------------------------------------------------------\u001b[0m",
      "\u001b[1;31mNameError\u001b[0m                                 Traceback (most recent call last)",
      "\u001b[1;32m<ipython-input-22-78f55ce09a7b>\u001b[0m in \u001b[0;36m<module>\u001b[1;34m\u001b[0m\n\u001b[0;32m     31\u001b[0m         \u001b[1;31m#num = \" \".join(x[3:8]) #num/name position\u001b[0m\u001b[1;33m\u001b[0m\u001b[1;33m\u001b[0m\u001b[1;33m\u001b[0m\u001b[0m\n\u001b[0;32m     32\u001b[0m         \u001b[1;31m#match = re.search(r\"- ([^']*):\", num).group(1) #isolate the num/name per se\u001b[0m\u001b[1;33m\u001b[0m\u001b[1;33m\u001b[0m\u001b[1;33m\u001b[0m\u001b[0m\n\u001b[1;32m---> 33\u001b[1;33m         \u001b[0mpart\u001b[0m \u001b[1;33m=\u001b[0m \u001b[0mline\u001b[0m\u001b[1;33m.\u001b[0m\u001b[0mpartition\u001b[0m\u001b[1;33m(\u001b[0m\u001b[0mmatch\u001b[0m\u001b[1;33m)\u001b[0m\u001b[1;33m[\u001b[0m\u001b[1;36m2\u001b[0m\u001b[1;33m]\u001b[0m \u001b[1;31m#partition according to the match and extract the last part, the msg\u001b[0m\u001b[1;33m\u001b[0m\u001b[1;33m\u001b[0m\u001b[0m\n\u001b[0m\u001b[0;32m     34\u001b[0m         \u001b[0mmsging\u001b[0m \u001b[1;33m=\u001b[0m \u001b[0mpart\u001b[0m\u001b[1;33m[\u001b[0m\u001b[1;36m2\u001b[0m\u001b[1;33m:\u001b[0m\u001b[1;33m]\u001b[0m \u001b[1;31m#strip off the first two characters as they are \": \"\u001b[0m\u001b[1;33m\u001b[0m\u001b[1;33m\u001b[0m\u001b[0m\n\u001b[0;32m     35\u001b[0m         \u001b[0mmsg\u001b[0m\u001b[1;33m.\u001b[0m\u001b[0mappend\u001b[0m\u001b[1;33m(\u001b[0m\u001b[0mmsging\u001b[0m\u001b[1;33m)\u001b[0m\u001b[1;33m\u001b[0m\u001b[1;33m\u001b[0m\u001b[0m\n",
      "\u001b[1;31mNameError\u001b[0m: name 'match' is not defined"
     ]
    }
   ],
   "source": [
    "#make arrays of different parts of the messages\n",
    "date = []\n",
    "time = []\n",
    "number = []\n",
    "msg = []\n",
    "counter = 0\n",
    "for line in msgs:\n",
    "    x = line.split()\n",
    "    if len(x) != 1:\n",
    "        #Get the date\n",
    "        dating =x[0]\n",
    "        date.append(dating.replace(',',''))\n",
    "\n",
    "        #Get the time\n",
    "        try:\n",
    "            timing = x[1] + \" \" +x[2]\n",
    "            time.append(timing)\n",
    "        except:\n",
    "            print(line)\n",
    "            break\n",
    "\n",
    "        #Get number\n",
    "        num = \" \".join(x[3:9]) #the parts numbers/names fall in\n",
    "        try:\n",
    "            match = re.search(r\"- ([^']*):\", num).group(1) #match between '- ' and ':' where they are per se\n",
    "            number.append(match)\n",
    "        except:\n",
    "            number.append(\"-\")\n",
    "            pass\n",
    "        #Get message\n",
    "        #num = \" \".join(x[3:8]) #num/name position\n",
    "        #match = re.search(r\"- ([^']*):\", num).group(1) #isolate the num/name per se\n",
    "        part = line.partition(match)[2] #partition according to the match and extract the last part, the msg\n",
    "        msging = part[2:] #strip off the first two characters as they are \": \"\n",
    "        msg.append(msging)\n",
    "\n",
    "    #     counter += 1\n",
    "    #     print(counter)\n",
    "    else:\n",
    "        print(\"This is a bad lie.\\n{}\".format(line))\n",
    "print(len(date), len(time), len(number), len(msg))"
   ]
  },
  {
   "cell_type": "code",
   "execution_count": null,
   "metadata": {},
   "outputs": [],
   "source": []
  }
 ]
}